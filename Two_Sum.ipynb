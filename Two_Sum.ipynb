{
 "cells": [
  {
   "cell_type": "markdown",
   "metadata": {},
   "source": [
    "<h1>Problem</h1>\n",
    "\n",
    "Given an array of integers nums and an integer target, return indices of the two numbers such that they add up to target.\n",
    "\n",
    "You may assume that each input would have exactly one solution, and you may not use the same element twice.\n",
    "\n",
    "You can return the answer in any order.\n",
    "\n",
    " \n",
    "\n",
    "Example 1:\n",
    "\n",
    "Input: nums = [2,7,11,15], target = 9\n",
    "Output: [0,1]\n",
    "Output: Because nums[0] + nums[1] == 9, we return [0, 1].\n",
    "\n",
    "Example 2:\n",
    "\n",
    "Input: nums = [3,2,4], target = 6\n",
    "Output: [1,2]\n",
    "\n",
    "Example 3:\n",
    "\n",
    "Input: nums = [3,3], target = 6\n",
    "\n",
    "Output: [0,1]"
   ]
  },
  {
   "cell_type": "code",
   "execution_count": 14,
   "metadata": {},
   "outputs": [],
   "source": [
    "import numpy as np\n",
    "\n",
    "class two_sum:\n",
    "    def __init__(self, target, array):\n",
    "        self.target_val = target\n",
    "        self.array_to_search = np.array(array)\n",
    "        self.first = -1\n",
    "        self.second = -1\n",
    "        \n",
    "    def return_indices(self):\n",
    "        # filter array that so that only smaller values are available\n",
    "        filtered_array = self.array_to_search[self.array_to_search<self.target_val]\n",
    "        for i in range(len(filtered_array)):\n",
    "            number_to_find = self.target_val-filtered_array[i]\n",
    "            sub_filtered_array = np.delete(filtered_array, i)\n",
    "            search_in_filtered_array = sub_filtered_array[sub_filtered_array == number_to_find]\n",
    "            if search_in_filtered_array.size > 0:\n",
    "                print(\"Items found\")\n",
    "                self.first = np.where(self.array_to_search==filtered_array[i])[0][0]\n",
    "                if np.where(self.array_to_search==search_in_filtered_array[0])[0].size > 1:\n",
    "                    self.second = np.delete(np.where(self.array_to_search==search_in_filtered_array[0])[0],i)[0]\n",
    "                else:    \n",
    "                    self.second = np.where(self.array_to_search==search_in_filtered_array[0])[0][0]            \n",
    "                break\n",
    "                \n",
    "        return (self.first, self.second)"
   ]
  },
  {
   "cell_type": "code",
   "execution_count": 21,
   "metadata": {},
   "outputs": [],
   "source": [
    "# testing\n",
    "list1 = [2,7,11,15]\n",
    "list2 = [3,2,4]\n",
    "list3 = [3,3]\n",
    "\n",
    "target1 = 9\n",
    "target2 = 6\n",
    "target3 = 6"
   ]
  },
  {
   "cell_type": "code",
   "execution_count": 17,
   "metadata": {},
   "outputs": [
    {
     "name": "stdout",
     "output_type": "stream",
     "text": [
      "Items found\n"
     ]
    },
    {
     "data": {
      "text/plain": [
       "(0, 1)"
      ]
     },
     "execution_count": 17,
     "metadata": {},
     "output_type": "execute_result"
    }
   ],
   "source": [
    "# object\n",
    "twosum_obj = two_sum(target1,list1)\n",
    "twosum_obj.return_indices()"
   ]
  },
  {
   "cell_type": "code",
   "execution_count": 16,
   "metadata": {},
   "outputs": [
    {
     "name": "stdout",
     "output_type": "stream",
     "text": [
      "Items found\n"
     ]
    },
    {
     "data": {
      "text/plain": [
       "(1, 2)"
      ]
     },
     "execution_count": 16,
     "metadata": {},
     "output_type": "execute_result"
    }
   ],
   "source": [
    "# object\n",
    "twosum_obj = two_sum(target2,list2)\n",
    "twosum_obj.return_indices()"
   ]
  },
  {
   "cell_type": "code",
   "execution_count": 22,
   "metadata": {},
   "outputs": [
    {
     "name": "stdout",
     "output_type": "stream",
     "text": [
      "Items found\n"
     ]
    },
    {
     "data": {
      "text/plain": [
       "(0, 1)"
      ]
     },
     "execution_count": 22,
     "metadata": {},
     "output_type": "execute_result"
    }
   ],
   "source": [
    "# object\n",
    "twosum_obj = two_sum(target3,list3)\n",
    "twosum_obj.return_indices()"
   ]
  },
  {
   "cell_type": "markdown",
   "metadata": {},
   "source": []
  }
 ],
 "metadata": {
  "interpreter": {
   "hash": "827c4add5b6840af82bac3798a0b95f166191b93d572e79c1f3382d3c0dcc227"
  },
  "kernelspec": {
   "display_name": "Python 3.8.5 64-bit ('medium': conda)",
   "name": "python3"
  },
  "language_info": {
   "codemirror_mode": {
    "name": "ipython",
    "version": 3
   },
   "file_extension": ".py",
   "mimetype": "text/x-python",
   "name": "python",
   "nbconvert_exporter": "python",
   "pygments_lexer": "ipython3",
   "version": "3.8.5"
  },
  "orig_nbformat": 4
 },
 "nbformat": 4,
 "nbformat_minor": 2
}
